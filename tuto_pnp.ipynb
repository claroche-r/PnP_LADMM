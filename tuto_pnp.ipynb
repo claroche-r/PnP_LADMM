{
 "cells": [
  {
   "cell_type": "markdown",
   "id": "9512b17c",
   "metadata": {},
   "source": [
    "# Tutorial on PnP-LADMM"
   ]
  },
  {
   "cell_type": "markdown",
   "id": "e4282a1d",
   "metadata": {},
   "source": [
    "#### Imports"
   ]
  },
  {
   "cell_type": "code",
   "execution_count": null,
   "id": "0731cd62",
   "metadata": {},
   "outputs": [],
   "source": [
    "import os\n",
    "import tqdm\n",
    "import torch\n",
    "import pickle\n",
    "import pandas as pd\n",
    "import numpy as np\n",
    "import matplotlib.pyplot as plt\n",
    "\n",
    "from utils.utils_pnp import get_metrics, get_metrics_bis\n",
    "import utils.utils_image as util\n",
    "import utils.utils_sisr as sisr\n",
    "\n",
    "from models.model_pnp_approximate_admm import PnP_approx_ADMM\n",
    "from models.model_pnp_ladmm import PnP_linearized_ADMM"
   ]
  },
  {
   "cell_type": "markdown",
   "id": "232b8bb7",
   "metadata": {},
   "source": [
    "#### Data-loading"
   ]
  },
  {
   "cell_type": "code",
   "execution_count": 9,
   "id": "cfc38d2d",
   "metadata": {
    "scrolled": true
   },
   "outputs": [
    {
     "name": "stdout",
     "output_type": "stream",
     "text": [
      "loading annotations into memory...\n",
      "Done (t=3.78s)\n",
      "creating index...\n",
      "index created!\n"
     ]
    }
   ],
   "source": [
    "from data.dataset_multiblur import Dataset\n",
    "\n",
    "ROOT = 'PATH2ROOT'\n",
    "\n",
    "opt_data = { \"phase\": \"train\"\n",
    "          , \"dataset_type\": \"multiblur\"\n",
    "          , \"dataroot_H\": ROOT + \"/datasets/COCO/val2014\"\n",
    "          , \"dataroot_L\": None\n",
    "          , \"H_size\": 128\n",
    "          , \"use_flip\": True\n",
    "          , \"use_rot\": True\n",
    "          , \"scales\": [1]\n",
    "          , \"sigma\": [2, 3]\n",
    "          , \"sigma_test\": 15\n",
    "          , \"n_channels\": 3\n",
    "          , \"dataloader_shuffle\": True\n",
    "          , \"dataloader_num_workers\": 16\n",
    "          , \"dataloader_batch_size\": 16\n",
    "          , \"motion_blur\": True\n",
    "\n",
    "          , \"coco_annotation_path\": ROOT + \"/datasets/COCO/instances_val2014.json\"}\n",
    "\n",
    "data = Dataset(opt_data)\n",
    "\n",
    "from torch.utils.data import DataLoader\n",
    "loader = DataLoader(data, batch_size=1)\n"
   ]
  },
  {
   "cell_type": "markdown",
   "id": "2a837f1c",
   "metadata": {},
   "source": [
    "#### Creation of the model"
   ]
  },
  {
   "cell_type": "code",
   "execution_count": 2,
   "id": "23078f33",
   "metadata": {},
   "outputs": [],
   "source": [
    "opt_pnp_ladmm = {'device': 'cuda',\n",
    "                 'lamb': 1,\n",
    "                 'sigma_d': 20/255,\n",
    "                 'Lx': 1 / ((20 / 255)**2), \n",
    "                 'n_iter': 40,\n",
    "                 'path_denoiser': 'model_zoo/drunet_color.pth'}\n",
    "\n",
    "pnp_ladmm = PnP_linearized_ADMM(opt)"
   ]
  },
  {
   "cell_type": "markdown",
   "id": "fad43e00",
   "metadata": {},
   "source": [
    "#### Run model"
   ]
  },
  {
   "cell_type": "code",
   "execution_count": null,
   "id": "c53ea1fd",
   "metadata": {},
   "outputs": [],
   "source": [
    "i = 0\n",
    "iter_max = 10\n",
    "\n",
    "for sample in loader:\n",
    "    i += 1\n",
    "    # run model\n",
    "    pnp_ladmm.feed_data(sample)\n",
    "    x, x_list, time_list = pnp_ladmm.run()\n",
    "\n",
    "    #plot\n",
    "    plt.subplot(131)\n",
    "    plt.imshow(util.tensor2uint(sample['L']))\n",
    "    plt.axis('off')\n",
    "    plt.title('LR')\n",
    "    plt.subplot(132)\n",
    "    plt.imshow(util.tensor2uint(x))\n",
    "    plt.axis('off')\n",
    "    plt.title('Estimate')\n",
    "    plt.subplot(133)\n",
    "    plt.imshow(util.tensor2uint(sample['H']))\n",
    "    plt.axis('off')\n",
    "    plt.title('HR')\n",
    "\n",
    "    # Stop after n_iter\n",
    "    if i >= iter_max:\n",
    "        break"
   ]
  }
 ],
 "metadata": {
  "kernelspec": {
   "display_name": "Python 3",
   "language": "python",
   "name": "python3"
  },
  "language_info": {
   "codemirror_mode": {
    "name": "ipython",
    "version": 3
   },
   "file_extension": ".py",
   "mimetype": "text/x-python",
   "name": "python",
   "nbconvert_exporter": "python",
   "pygments_lexer": "ipython3",
   "version": "3.9.6"
  },
  "vscode": {
   "interpreter": {
    "hash": "31f2aee4e71d21fbe5cf8b01ff0e069b9275f58929596ceb00d14d90e3e16cd6"
   }
  }
 },
 "nbformat": 4,
 "nbformat_minor": 5
}
